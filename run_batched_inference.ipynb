{
 "cells": [
  {
   "cell_type": "code",
   "execution_count": null,
   "metadata": {},
   "outputs": [],
   "source": [
    "import os\n",
    "from pathlib import Path\n",
    "import sys\n",
    "\n",
    "os.environ[\"CUDA_VISIBLE_DEVICES\"] = \"0\"\n",
    "sys.path.append(Path(\".\").resolve().as_posix())"
   ]
  },
  {
   "cell_type": "code",
   "execution_count": null,
   "metadata": {
    "metadata": {}
   },
   "outputs": [],
   "source": [
    "import torch\n",
    "\n",
    "from llava.constants import (\n",
    "    IMAGE_TOKEN_INDEX,\n",
    "    DEFAULT_IMAGE_TOKEN,\n",
    "    DEFAULT_IM_START_TOKEN,\n",
    "    DEFAULT_IM_END_TOKEN,\n",
    "    DEFAULT_IMAGE_PATCH_TOKEN,\n",
    ")\n",
    "from llava.conversation import conv_templates, SeparatorStyle\n",
    "from llava.model.builder import load_pretrained_model\n",
    "from llava.utils import disable_torch_init\n",
    "from llava.mm_utils import (\n",
    "    tokenizer_image_token,\n",
    "    tokenizer_image_token2,\n",
    "    process_images,\n",
    "    get_model_name_from_path,\n",
    ")\n",
    "from llava.model import (\n",
    "    LlavaConfig,\n",
    "    LlavaMistralForCausalLM,\n",
    "    LlavaLlamaForCausalLM,\n",
    "    LlavaGemmaForCausalLM,\n",
    "    LlavaGemmaConfig,\n",
    "    LlavaPhi3Config,\n",
    "    LlavaPhi3ForCausalLM,\n",
    ")"
   ]
  },
  {
   "cell_type": "code",
   "execution_count": null,
   "metadata": {
    "metadata": {}
   },
   "outputs": [],
   "source": [
    "model_path = \"path/to/checkpoint\""
   ]
  },
  {
   "cell_type": "code",
   "execution_count": null,
   "metadata": {
    "metadata": {}
   },
   "outputs": [],
   "source": [
    "disable_torch_init()\n",
    "model_path = os.path.expanduser(model_path)\n",
    "model_name = get_model_name_from_path(model_path)\n",
    "tokenizer, model, image_processor, context_len = load_pretrained_model(model_path, None, model_name)"
   ]
  },
  {
   "cell_type": "code",
   "execution_count": null,
   "metadata": {
    "metadata": {}
   },
   "outputs": [],
   "source": [
    "model.get_model().to(\"cuda\", dtype=torch.bfloat16)\n",
    "model.get_model().mm_projector.to(\"cuda\", dtype=torch.bfloat16)"
   ]
  },
  {
   "cell_type": "code",
   "execution_count": null,
   "metadata": {
    "metadata": {}
   },
   "outputs": [],
   "source": [
    "# set generation parameters\n",
    "conv_mode = \"gemma\"\n",
    "num_chunks = 1\n",
    "chunk_idx = 0\n",
    "temperature = 0.5\n",
    "top_p = None\n",
    "num_beams = 1"
   ]
  },
  {
   "cell_type": "code",
   "execution_count": null,
   "metadata": {
    "metadata": {}
   },
   "outputs": [],
   "source": [
    "def build_prompt(text):\n",
    "    # insert special image tokens into the text prompt\n",
    "    text = f\"{DEFAULT_IMAGE_TOKEN}\\n{text}\"\n",
    "\n",
    "    # construct conversation\n",
    "    conv = conv_templates[conv_mode].copy()\n",
    "    conv.append_message(conv.roles[0], text)\n",
    "    conv.append_message(conv.roles[1], None)\n",
    "    prompt = conv.get_prompt()\n",
    "    return prompt\n",
    "\n",
    "\n",
    "def get_text_batch(texts, tokenizer):\n",
    "    prompts = []\n",
    "    for text in texts:\n",
    "        prompts.append(build_prompt(text))\n",
    "\n",
    "    # # tokenize the prompt\n",
    "    inputs = (\n",
    "        tokenizer_image_token2(prompts, tokenizer, IMAGE_TOKEN_INDEX, return_tensors=\"pt\")\n",
    "    )\n",
    "\n",
    "    for k, v in inputs.items():\n",
    "        inputs[k] = v.to(\"cuda\")\n",
    "\n",
    "    return inputs\n",
    "\n",
    "\n",
    "def get_video_batch(videos, image_processor):\n",
    "    video_tensor = image_processor(videos, return_tensors=\"pt\")[\"pixel_values\"].to(\n",
    "        \"cuda\", dtype=torch.bfloat16\n",
    "    )\n",
    "    return video_tensor"
   ]
  },
  {
   "cell_type": "code",
   "execution_count": null,
   "metadata": {
    "metadata": {}
   },
   "outputs": [],
   "source": [
    "texts = [\n",
    "    \"How many birds are there?\",\n",
    "    \"Describe what's on the video.\",\n",
    "    \"What facial expression does this person have?\",\n",
    "    \"Describe the scene.\"\n",
    "]\n",
    "\n",
    "videos = [\n",
    "    \"videos_zero_shot/birds.mp4\",\n",
    "    \"videos_zero_shot/fish.mp4\",\n",
    "    \"videos_zero_shot/human.mp4\",\n",
    "    \"videos_zero_shot/swamp.mp4\"\n",
    "]\n",
    "\n",
    "text_inputs = get_text_batch(texts, tokenizer)\n",
    "video_tensor = get_video_batch(videos, image_processor)"
   ]
  },
  {
   "cell_type": "code",
   "execution_count": null,
   "metadata": {
    "metadata": {}
   },
   "outputs": [],
   "source": [
    "with torch.inference_mode(), torch.amp.autocast(\"cuda\"):\n",
    "    output_ids = model.generate(\n",
    "        **text_inputs,\n",
    "        images=video_tensor,\n",
    "        # image_sizes=[image.size],\n",
    "        do_sample=True if temperature > 0 else False,\n",
    "        temperature=temperature,\n",
    "        top_p=top_p,\n",
    "        num_beams=num_beams,\n",
    "        # no_repeat_ngram_size=3,\n",
    "        max_new_tokens=1024,\n",
    "        use_cache=True)\n",
    "\n",
    "outputs = tokenizer.batch_decode(output_ids, skip_special_tokens=True)"
   ]
  },
  {
   "cell_type": "code",
   "execution_count": null,
   "metadata": {
    "metadata": {}
   },
   "outputs": [],
   "source": [
    "for output in outputs:\n",
    "    print(output)"
   ]
  }
 ],
 "metadata": {
  "kernelspec": {
   "display_name": "Python 3",
   "language": "python",
   "name": "python3"
  },
  "language_info": {
   "codemirror_mode": {
    "name": "ipython",
    "version": 3
   },
   "file_extension": ".py",
   "mimetype": "text/x-python",
   "name": "python",
   "nbconvert_exporter": "python",
   "pygments_lexer": "ipython3",
   "version": "3.10.12"
  }
 },
 "nbformat": 4,
 "nbformat_minor": 2
}
