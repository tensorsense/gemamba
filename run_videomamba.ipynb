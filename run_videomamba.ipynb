{
 "cells": [
  {
   "cell_type": "code",
   "execution_count": null,
   "metadata": {},
   "outputs": [],
   "source": [
    "import os\n",
    "from pathlib import Path\n",
    "import sys\n",
    "\n",
    "# os.environ[\"CUDA_VISIBLE_DEVICES\"] = \"0\"\n",
    "sys.path.append(Path(\".\").resolve().as_posix())"
   ]
  },
  {
   "cell_type": "markdown",
   "metadata": {},
   "source": [
    "1. Load `VideoMambaVideoEncoder` from checkpoint.\n",
    "2. Load and run forward on `VideoMambaVisionModel`.\n",
    "3. Load `VideoMambaTextModel` from checkpoint.\n",
    "4. Assemble and run `VideoMambaModel`.\n",
    "5. Create a processor class to match `VideoMambaModel`."
   ]
  },
  {
   "cell_type": "code",
   "execution_count": null,
   "metadata": {},
   "outputs": [],
   "source": [
    "# 1. Load VideoMambaVideoEncoder with weights\n",
    "\n",
    "from llava.model.multimodal_encoder.videomamba2.modeling_videomamba import VideoMambaVideoEncoder\n",
    "from llava.model.multimodal_encoder.videomamba2.configuration_videomamba import VideoMambaVisionConfig\n",
    "from llava.model.multimodal_encoder.videomamba2.video_processing_videomamba import VideoMambaVideoProcessor"
   ]
  },
  {
   "cell_type": "code",
   "execution_count": null,
   "metadata": {},
   "outputs": [],
   "source": [
    "config = VideoMambaVisionConfig()"
   ]
  },
  {
   "cell_type": "code",
   "execution_count": null,
   "metadata": {},
   "outputs": [],
   "source": [
    "model = VideoMambaVideoEncoder(config)"
   ]
  },
  {
   "cell_type": "code",
   "execution_count": null,
   "metadata": {},
   "outputs": [],
   "source": [
    "processor = VideoMambaVideoProcessor()\n",
    "\n",
    "video_paths = [\n",
    "    \"videos_zero_shot/birds.mp4\",\n",
    "    \"videos_zero_shot/fish.mp4\",\n",
    "    \"videos_zero_shot/human.mp4\",\n",
    "    \"videos_zero_shot/swamp.mp4\",\n",
    "]\n",
    "\n",
    "videos = processor(video_paths, return_tensors=\"pt\")[\"pixel_values\"].to(\"cuda\")\n",
    "\n",
    "\n",
    "# b, _, t, _, _ = videos.shape\n",
    "videos.shape\n",
    "model = model.to(\"cuda\")"
   ]
  },
  {
   "cell_type": "code",
   "execution_count": null,
   "metadata": {},
   "outputs": [],
   "source": [
    "model(videos)"
   ]
  },
  {
   "cell_type": "code",
   "execution_count": null,
   "metadata": {},
   "outputs": [],
   "source": []
  }
 ],
 "metadata": {
  "kernelspec": {
   "display_name": "Python 3",
   "language": "python",
   "name": "python3"
  },
  "language_info": {
   "codemirror_mode": {
    "name": "ipython",
    "version": 3
   },
   "file_extension": ".py",
   "mimetype": "text/x-python",
   "name": "python",
   "nbconvert_exporter": "python",
   "pygments_lexer": "ipython3",
   "version": "3.10.12"
  }
 },
 "nbformat": 4,
 "nbformat_minor": 2
}
