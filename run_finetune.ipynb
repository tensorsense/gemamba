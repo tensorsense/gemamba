{
 "cells": [
  {
   "cell_type": "code",
   "execution_count": 1,
   "metadata": {},
   "outputs": [],
   "source": [
    "import os\n",
    "from dotenv import find_dotenv, load_dotenv\n",
    "\n",
    "_ = load_dotenv(find_dotenv())\n",
    "\n",
    "hf_token = os.getenv(\"HF_TOKEN\")"
   ]
  },
  {
   "cell_type": "code",
   "execution_count": 2,
   "metadata": {},
   "outputs": [],
   "source": [
    "from pathlib import Path\n",
    "import sys\n",
    "\n",
    "sys.path.append(Path(\"custom_llava\").resolve().as_posix())"
   ]
  },
  {
   "cell_type": "code",
   "execution_count": 3,
   "metadata": {},
   "outputs": [],
   "source": [
    "from transformers import AutoModelForCausalLM, AutoTokenizer\n",
    "import torch"
   ]
  },
  {
   "cell_type": "code",
   "execution_count": 4,
   "metadata": {},
   "outputs": [],
   "source": [
    "model_path = \"custom_llava/checkpoints/llava_gemma_v0_full\""
   ]
  },
  {
   "cell_type": "code",
   "execution_count": null,
   "metadata": {},
   "outputs": [],
   "source": []
  },
  {
   "cell_type": "code",
   "execution_count": 5,
   "metadata": {},
   "outputs": [
    {
     "name": "stderr",
     "output_type": "stream",
     "text": [
      "/home/azureuser/anaconda3/envs/vlm_sandbox/lib/python3.11/site-packages/torchvision/transforms/_functional_video.py:6: UserWarning: The 'torchvision.transforms._functional_video' module is deprecated since 0.12 and will be removed in the future. Please use the 'torchvision.transforms.functional' module instead.\n",
      "  warnings.warn(\n",
      "/home/azureuser/anaconda3/envs/vlm_sandbox/lib/python3.11/site-packages/torchvision/transforms/_transforms_video.py:22: UserWarning: The 'torchvision.transforms._transforms_video' module is deprecated since 0.12 and will be removed in the future. Please use the 'torchvision.transforms' module instead.\n",
      "  warnings.warn(\n"
     ]
    }
   ],
   "source": [
    "from custom_llava.llava.constants import (\n",
    "    IMAGE_TOKEN_INDEX,\n",
    "    DEFAULT_IMAGE_TOKEN,\n",
    "    DEFAULT_IM_START_TOKEN,\n",
    "    DEFAULT_IM_END_TOKEN,\n",
    "    DEFAULT_IMAGE_PATCH_TOKEN,\n",
    ")\n",
    "from custom_llava.llava.conversation import conv_templates, SeparatorStyle\n",
    "from custom_llava.llava.model.builder import load_pretrained_model\n",
    "from custom_llava.llava.utils import disable_torch_init\n",
    "from custom_llava.llava.mm_utils import (\n",
    "    tokenizer_image_token,\n",
    "    process_images,\n",
    "    get_model_name_from_path,\n",
    ")\n",
    "from custom_llava.llava.model import (\n",
    "    LlavaConfig,\n",
    "    LlavaMistralForCausalLM,\n",
    "    LlavaLlamaForCausalLM,\n",
    "    LlavaGemmaForCausalLM,\n",
    ")"
   ]
  },
  {
   "cell_type": "code",
   "execution_count": 6,
   "metadata": {},
   "outputs": [
    {
     "name": "stderr",
     "output_type": "stream",
     "text": [
      "Gemma's activation function should be approximate GeLU and not exact GeLU.\n",
      "Changing the activation function to `gelu_pytorch_tanh`.if you want to use the legacy `gelu`, edit the `model.config` to set `hidden_activation=gelu`   instead of `hidden_act`. See https://github.com/huggingface/transformers/pull/29402 for more details.\n"
     ]
    },
    {
     "data": {
      "application/vnd.jupyter.widget-view+json": {
       "model_id": "e9e7b80b532b46b5ae2195185cbd76f8",
       "version_major": 2,
       "version_minor": 0
      },
      "text/plain": [
       "Loading checkpoint shards:   0%|          | 0/2 [00:00<?, ?it/s]"
      ]
     },
     "metadata": {},
     "output_type": "display_data"
    },
    {
     "name": "stderr",
     "output_type": "stream",
     "text": [
      "Some weights of the model checkpoint at custom_llava/checkpoints/llava_gemma_v0_full were not used when initializing LlavaGemmaForCausalLM: ['model.vision_tower.video_tower.embeddings.class_embedding', 'model.vision_tower.video_tower.embeddings.patch_embedding.weight', 'model.vision_tower.video_tower.embeddings.position_embedding.weight', 'model.vision_tower.video_tower.encoder.layers.0.layer_norm1.bias', 'model.vision_tower.video_tower.encoder.layers.0.layer_norm1.weight', 'model.vision_tower.video_tower.encoder.layers.0.layer_norm2.bias', 'model.vision_tower.video_tower.encoder.layers.0.layer_norm2.weight', 'model.vision_tower.video_tower.encoder.layers.0.mlp.fc1.bias', 'model.vision_tower.video_tower.encoder.layers.0.mlp.fc1.weight', 'model.vision_tower.video_tower.encoder.layers.0.mlp.fc2.bias', 'model.vision_tower.video_tower.encoder.layers.0.mlp.fc2.weight', 'model.vision_tower.video_tower.encoder.layers.0.self_attn.k_proj.bias', 'model.vision_tower.video_tower.encoder.layers.0.self_attn.k_proj.weight', 'model.vision_tower.video_tower.encoder.layers.0.self_attn.out_proj.bias', 'model.vision_tower.video_tower.encoder.layers.0.self_attn.out_proj.weight', 'model.vision_tower.video_tower.encoder.layers.0.self_attn.q_proj.bias', 'model.vision_tower.video_tower.encoder.layers.0.self_attn.q_proj.weight', 'model.vision_tower.video_tower.encoder.layers.0.self_attn.v_proj.bias', 'model.vision_tower.video_tower.encoder.layers.0.self_attn.v_proj.weight', 'model.vision_tower.video_tower.encoder.layers.0.temporal_attn.k_proj.bias', 'model.vision_tower.video_tower.encoder.layers.0.temporal_attn.k_proj.weight', 'model.vision_tower.video_tower.encoder.layers.0.temporal_attn.out_proj.bias', 'model.vision_tower.video_tower.encoder.layers.0.temporal_attn.out_proj.weight', 'model.vision_tower.video_tower.encoder.layers.0.temporal_attn.q_proj.bias', 'model.vision_tower.video_tower.encoder.layers.0.temporal_attn.q_proj.weight', 'model.vision_tower.video_tower.encoder.layers.0.temporal_attn.v_proj.bias', 'model.vision_tower.video_tower.encoder.layers.0.temporal_attn.v_proj.weight', 'model.vision_tower.video_tower.encoder.layers.0.temporal_embedding', 'model.vision_tower.video_tower.encoder.layers.0.temporal_layer_norm1.bias', 'model.vision_tower.video_tower.encoder.layers.0.temporal_layer_norm1.weight', 'model.vision_tower.video_tower.encoder.layers.1.layer_norm1.bias', 'model.vision_tower.video_tower.encoder.layers.1.layer_norm1.weight', 'model.vision_tower.video_tower.encoder.layers.1.layer_norm2.bias', 'model.vision_tower.video_tower.encoder.layers.1.layer_norm2.weight', 'model.vision_tower.video_tower.encoder.layers.1.mlp.fc1.bias', 'model.vision_tower.video_tower.encoder.layers.1.mlp.fc1.weight', 'model.vision_tower.video_tower.encoder.layers.1.mlp.fc2.bias', 'model.vision_tower.video_tower.encoder.layers.1.mlp.fc2.weight', 'model.vision_tower.video_tower.encoder.layers.1.self_attn.k_proj.bias', 'model.vision_tower.video_tower.encoder.layers.1.self_attn.k_proj.weight', 'model.vision_tower.video_tower.encoder.layers.1.self_attn.out_proj.bias', 'model.vision_tower.video_tower.encoder.layers.1.self_attn.out_proj.weight', 'model.vision_tower.video_tower.encoder.layers.1.self_attn.q_proj.bias', 'model.vision_tower.video_tower.encoder.layers.1.self_attn.q_proj.weight', 'model.vision_tower.video_tower.encoder.layers.1.self_attn.v_proj.bias', 'model.vision_tower.video_tower.encoder.layers.1.self_attn.v_proj.weight', 'model.vision_tower.video_tower.encoder.layers.1.temporal_attn.k_proj.bias', 'model.vision_tower.video_tower.encoder.layers.1.temporal_attn.k_proj.weight', 'model.vision_tower.video_tower.encoder.layers.1.temporal_attn.out_proj.bias', 'model.vision_tower.video_tower.encoder.layers.1.temporal_attn.out_proj.weight', 'model.vision_tower.video_tower.encoder.layers.1.temporal_attn.q_proj.bias', 'model.vision_tower.video_tower.encoder.layers.1.temporal_attn.q_proj.weight', 'model.vision_tower.video_tower.encoder.layers.1.temporal_attn.v_proj.bias', 'model.vision_tower.video_tower.encoder.layers.1.temporal_attn.v_proj.weight', 'model.vision_tower.video_tower.encoder.layers.1.temporal_embedding', 'model.vision_tower.video_tower.encoder.layers.1.temporal_layer_norm1.bias', 'model.vision_tower.video_tower.encoder.layers.1.temporal_layer_norm1.weight', 'model.vision_tower.video_tower.encoder.layers.10.layer_norm1.bias', 'model.vision_tower.video_tower.encoder.layers.10.layer_norm1.weight', 'model.vision_tower.video_tower.encoder.layers.10.layer_norm2.bias', 'model.vision_tower.video_tower.encoder.layers.10.layer_norm2.weight', 'model.vision_tower.video_tower.encoder.layers.10.mlp.fc1.bias', 'model.vision_tower.video_tower.encoder.layers.10.mlp.fc1.weight', 'model.vision_tower.video_tower.encoder.layers.10.mlp.fc2.bias', 'model.vision_tower.video_tower.encoder.layers.10.mlp.fc2.weight', 'model.vision_tower.video_tower.encoder.layers.10.self_attn.k_proj.bias', 'model.vision_tower.video_tower.encoder.layers.10.self_attn.k_proj.weight', 'model.vision_tower.video_tower.encoder.layers.10.self_attn.out_proj.bias', 'model.vision_tower.video_tower.encoder.layers.10.self_attn.out_proj.weight', 'model.vision_tower.video_tower.encoder.layers.10.self_attn.q_proj.bias', 'model.vision_tower.video_tower.encoder.layers.10.self_attn.q_proj.weight', 'model.vision_tower.video_tower.encoder.layers.10.self_attn.v_proj.bias', 'model.vision_tower.video_tower.encoder.layers.10.self_attn.v_proj.weight', 'model.vision_tower.video_tower.encoder.layers.10.temporal_attn.k_proj.bias', 'model.vision_tower.video_tower.encoder.layers.10.temporal_attn.k_proj.weight', 'model.vision_tower.video_tower.encoder.layers.10.temporal_attn.out_proj.bias', 'model.vision_tower.video_tower.encoder.layers.10.temporal_attn.out_proj.weight', 'model.vision_tower.video_tower.encoder.layers.10.temporal_attn.q_proj.bias', 'model.vision_tower.video_tower.encoder.layers.10.temporal_attn.q_proj.weight', 'model.vision_tower.video_tower.encoder.layers.10.temporal_attn.v_proj.bias', 'model.vision_tower.video_tower.encoder.layers.10.temporal_attn.v_proj.weight', 'model.vision_tower.video_tower.encoder.layers.10.temporal_embedding', 'model.vision_tower.video_tower.encoder.layers.10.temporal_layer_norm1.bias', 'model.vision_tower.video_tower.encoder.layers.10.temporal_layer_norm1.weight', 'model.vision_tower.video_tower.encoder.layers.11.layer_norm1.bias', 'model.vision_tower.video_tower.encoder.layers.11.layer_norm1.weight', 'model.vision_tower.video_tower.encoder.layers.11.layer_norm2.bias', 'model.vision_tower.video_tower.encoder.layers.11.layer_norm2.weight', 'model.vision_tower.video_tower.encoder.layers.11.mlp.fc1.bias', 'model.vision_tower.video_tower.encoder.layers.11.mlp.fc1.weight', 'model.vision_tower.video_tower.encoder.layers.11.mlp.fc2.bias', 'model.vision_tower.video_tower.encoder.layers.11.mlp.fc2.weight', 'model.vision_tower.video_tower.encoder.layers.11.self_attn.k_proj.bias', 'model.vision_tower.video_tower.encoder.layers.11.self_attn.k_proj.weight', 'model.vision_tower.video_tower.encoder.layers.11.self_attn.out_proj.bias', 'model.vision_tower.video_tower.encoder.layers.11.self_attn.out_proj.weight', 'model.vision_tower.video_tower.encoder.layers.11.self_attn.q_proj.bias', 'model.vision_tower.video_tower.encoder.layers.11.self_attn.q_proj.weight', 'model.vision_tower.video_tower.encoder.layers.11.self_attn.v_proj.bias', 'model.vision_tower.video_tower.encoder.layers.11.self_attn.v_proj.weight', 'model.vision_tower.video_tower.encoder.layers.11.temporal_attn.k_proj.bias', 'model.vision_tower.video_tower.encoder.layers.11.temporal_attn.k_proj.weight', 'model.vision_tower.video_tower.encoder.layers.11.temporal_attn.out_proj.bias', 'model.vision_tower.video_tower.encoder.layers.11.temporal_attn.out_proj.weight', 'model.vision_tower.video_tower.encoder.layers.11.temporal_attn.q_proj.bias', 'model.vision_tower.video_tower.encoder.layers.11.temporal_attn.q_proj.weight', 'model.vision_tower.video_tower.encoder.layers.11.temporal_attn.v_proj.bias', 'model.vision_tower.video_tower.encoder.layers.11.temporal_attn.v_proj.weight', 'model.vision_tower.video_tower.encoder.layers.11.temporal_embedding', 'model.vision_tower.video_tower.encoder.layers.11.temporal_layer_norm1.bias', 'model.vision_tower.video_tower.encoder.layers.11.temporal_layer_norm1.weight', 'model.vision_tower.video_tower.encoder.layers.12.layer_norm1.bias', 'model.vision_tower.video_tower.encoder.layers.12.layer_norm1.weight', 'model.vision_tower.video_tower.encoder.layers.12.layer_norm2.bias', 'model.vision_tower.video_tower.encoder.layers.12.layer_norm2.weight', 'model.vision_tower.video_tower.encoder.layers.12.mlp.fc1.bias', 'model.vision_tower.video_tower.encoder.layers.12.mlp.fc1.weight', 'model.vision_tower.video_tower.encoder.layers.12.mlp.fc2.bias', 'model.vision_tower.video_tower.encoder.layers.12.mlp.fc2.weight', 'model.vision_tower.video_tower.encoder.layers.12.self_attn.k_proj.bias', 'model.vision_tower.video_tower.encoder.layers.12.self_attn.k_proj.weight', 'model.vision_tower.video_tower.encoder.layers.12.self_attn.out_proj.bias', 'model.vision_tower.video_tower.encoder.layers.12.self_attn.out_proj.weight', 'model.vision_tower.video_tower.encoder.layers.12.self_attn.q_proj.bias', 'model.vision_tower.video_tower.encoder.layers.12.self_attn.q_proj.weight', 'model.vision_tower.video_tower.encoder.layers.12.self_attn.v_proj.bias', 'model.vision_tower.video_tower.encoder.layers.12.self_attn.v_proj.weight', 'model.vision_tower.video_tower.encoder.layers.12.temporal_attn.k_proj.bias', 'model.vision_tower.video_tower.encoder.layers.12.temporal_attn.k_proj.weight', 'model.vision_tower.video_tower.encoder.layers.12.temporal_attn.out_proj.bias', 'model.vision_tower.video_tower.encoder.layers.12.temporal_attn.out_proj.weight', 'model.vision_tower.video_tower.encoder.layers.12.temporal_attn.q_proj.bias', 'model.vision_tower.video_tower.encoder.layers.12.temporal_attn.q_proj.weight', 'model.vision_tower.video_tower.encoder.layers.12.temporal_attn.v_proj.bias', 'model.vision_tower.video_tower.encoder.layers.12.temporal_attn.v_proj.weight', 'model.vision_tower.video_tower.encoder.layers.12.temporal_embedding', 'model.vision_tower.video_tower.encoder.layers.12.temporal_layer_norm1.bias', 'model.vision_tower.video_tower.encoder.layers.12.temporal_layer_norm1.weight', 'model.vision_tower.video_tower.encoder.layers.13.layer_norm1.bias', 'model.vision_tower.video_tower.encoder.layers.13.layer_norm1.weight', 'model.vision_tower.video_tower.encoder.layers.13.layer_norm2.bias', 'model.vision_tower.video_tower.encoder.layers.13.layer_norm2.weight', 'model.vision_tower.video_tower.encoder.layers.13.mlp.fc1.bias', 'model.vision_tower.video_tower.encoder.layers.13.mlp.fc1.weight', 'model.vision_tower.video_tower.encoder.layers.13.mlp.fc2.bias', 'model.vision_tower.video_tower.encoder.layers.13.mlp.fc2.weight', 'model.vision_tower.video_tower.encoder.layers.13.self_attn.k_proj.bias', 'model.vision_tower.video_tower.encoder.layers.13.self_attn.k_proj.weight', 'model.vision_tower.video_tower.encoder.layers.13.self_attn.out_proj.bias', 'model.vision_tower.video_tower.encoder.layers.13.self_attn.out_proj.weight', 'model.vision_tower.video_tower.encoder.layers.13.self_attn.q_proj.bias', 'model.vision_tower.video_tower.encoder.layers.13.self_attn.q_proj.weight', 'model.vision_tower.video_tower.encoder.layers.13.self_attn.v_proj.bias', 'model.vision_tower.video_tower.encoder.layers.13.self_attn.v_proj.weight', 'model.vision_tower.video_tower.encoder.layers.13.temporal_attn.k_proj.bias', 'model.vision_tower.video_tower.encoder.layers.13.temporal_attn.k_proj.weight', 'model.vision_tower.video_tower.encoder.layers.13.temporal_attn.out_proj.bias', 'model.vision_tower.video_tower.encoder.layers.13.temporal_attn.out_proj.weight', 'model.vision_tower.video_tower.encoder.layers.13.temporal_attn.q_proj.bias', 'model.vision_tower.video_tower.encoder.layers.13.temporal_attn.q_proj.weight', 'model.vision_tower.video_tower.encoder.layers.13.temporal_attn.v_proj.bias', 'model.vision_tower.video_tower.encoder.layers.13.temporal_attn.v_proj.weight', 'model.vision_tower.video_tower.encoder.layers.13.temporal_embedding', 'model.vision_tower.video_tower.encoder.layers.13.temporal_layer_norm1.bias', 'model.vision_tower.video_tower.encoder.layers.13.temporal_layer_norm1.weight', 'model.vision_tower.video_tower.encoder.layers.14.layer_norm1.bias', 'model.vision_tower.video_tower.encoder.layers.14.layer_norm1.weight', 'model.vision_tower.video_tower.encoder.layers.14.layer_norm2.bias', 'model.vision_tower.video_tower.encoder.layers.14.layer_norm2.weight', 'model.vision_tower.video_tower.encoder.layers.14.mlp.fc1.bias', 'model.vision_tower.video_tower.encoder.layers.14.mlp.fc1.weight', 'model.vision_tower.video_tower.encoder.layers.14.mlp.fc2.bias', 'model.vision_tower.video_tower.encoder.layers.14.mlp.fc2.weight', 'model.vision_tower.video_tower.encoder.layers.14.self_attn.k_proj.bias', 'model.vision_tower.video_tower.encoder.layers.14.self_attn.k_proj.weight', 'model.vision_tower.video_tower.encoder.layers.14.self_attn.out_proj.bias', 'model.vision_tower.video_tower.encoder.layers.14.self_attn.out_proj.weight', 'model.vision_tower.video_tower.encoder.layers.14.self_attn.q_proj.bias', 'model.vision_tower.video_tower.encoder.layers.14.self_attn.q_proj.weight', 'model.vision_tower.video_tower.encoder.layers.14.self_attn.v_proj.bias', 'model.vision_tower.video_tower.encoder.layers.14.self_attn.v_proj.weight', 'model.vision_tower.video_tower.encoder.layers.14.temporal_attn.k_proj.bias', 'model.vision_tower.video_tower.encoder.layers.14.temporal_attn.k_proj.weight', 'model.vision_tower.video_tower.encoder.layers.14.temporal_attn.out_proj.bias', 'model.vision_tower.video_tower.encoder.layers.14.temporal_attn.out_proj.weight', 'model.vision_tower.video_tower.encoder.layers.14.temporal_attn.q_proj.bias', 'model.vision_tower.video_tower.encoder.layers.14.temporal_attn.q_proj.weight', 'model.vision_tower.video_tower.encoder.layers.14.temporal_attn.v_proj.bias', 'model.vision_tower.video_tower.encoder.layers.14.temporal_attn.v_proj.weight', 'model.vision_tower.video_tower.encoder.layers.14.temporal_embedding', 'model.vision_tower.video_tower.encoder.layers.14.temporal_layer_norm1.bias', 'model.vision_tower.video_tower.encoder.layers.14.temporal_layer_norm1.weight', 'model.vision_tower.video_tower.encoder.layers.15.layer_norm1.bias', 'model.vision_tower.video_tower.encoder.layers.15.layer_norm1.weight', 'model.vision_tower.video_tower.encoder.layers.15.layer_norm2.bias', 'model.vision_tower.video_tower.encoder.layers.15.layer_norm2.weight', 'model.vision_tower.video_tower.encoder.layers.15.mlp.fc1.bias', 'model.vision_tower.video_tower.encoder.layers.15.mlp.fc1.weight', 'model.vision_tower.video_tower.encoder.layers.15.mlp.fc2.bias', 'model.vision_tower.video_tower.encoder.layers.15.mlp.fc2.weight', 'model.vision_tower.video_tower.encoder.layers.15.self_attn.k_proj.bias', 'model.vision_tower.video_tower.encoder.layers.15.self_attn.k_proj.weight', 'model.vision_tower.video_tower.encoder.layers.15.self_attn.out_proj.bias', 'model.vision_tower.video_tower.encoder.layers.15.self_attn.out_proj.weight', 'model.vision_tower.video_tower.encoder.layers.15.self_attn.q_proj.bias', 'model.vision_tower.video_tower.encoder.layers.15.self_attn.q_proj.weight', 'model.vision_tower.video_tower.encoder.layers.15.self_attn.v_proj.bias', 'model.vision_tower.video_tower.encoder.layers.15.self_attn.v_proj.weight', 'model.vision_tower.video_tower.encoder.layers.15.temporal_attn.k_proj.bias', 'model.vision_tower.video_tower.encoder.layers.15.temporal_attn.k_proj.weight', 'model.vision_tower.video_tower.encoder.layers.15.temporal_attn.out_proj.bias', 'model.vision_tower.video_tower.encoder.layers.15.temporal_attn.out_proj.weight', 'model.vision_tower.video_tower.encoder.layers.15.temporal_attn.q_proj.bias', 'model.vision_tower.video_tower.encoder.layers.15.temporal_attn.q_proj.weight', 'model.vision_tower.video_tower.encoder.layers.15.temporal_attn.v_proj.bias', 'model.vision_tower.video_tower.encoder.layers.15.temporal_attn.v_proj.weight', 'model.vision_tower.video_tower.encoder.layers.15.temporal_embedding', 'model.vision_tower.video_tower.encoder.layers.15.temporal_layer_norm1.bias', 'model.vision_tower.video_tower.encoder.layers.15.temporal_layer_norm1.weight', 'model.vision_tower.video_tower.encoder.layers.16.layer_norm1.bias', 'model.vision_tower.video_tower.encoder.layers.16.layer_norm1.weight', 'model.vision_tower.video_tower.encoder.layers.16.layer_norm2.bias', 'model.vision_tower.video_tower.encoder.layers.16.layer_norm2.weight', 'model.vision_tower.video_tower.encoder.layers.16.mlp.fc1.bias', 'model.vision_tower.video_tower.encoder.layers.16.mlp.fc1.weight', 'model.vision_tower.video_tower.encoder.layers.16.mlp.fc2.bias', 'model.vision_tower.video_tower.encoder.layers.16.mlp.fc2.weight', 'model.vision_tower.video_tower.encoder.layers.16.self_attn.k_proj.bias', 'model.vision_tower.video_tower.encoder.layers.16.self_attn.k_proj.weight', 'model.vision_tower.video_tower.encoder.layers.16.self_attn.out_proj.bias', 'model.vision_tower.video_tower.encoder.layers.16.self_attn.out_proj.weight', 'model.vision_tower.video_tower.encoder.layers.16.self_attn.q_proj.bias', 'model.vision_tower.video_tower.encoder.layers.16.self_attn.q_proj.weight', 'model.vision_tower.video_tower.encoder.layers.16.self_attn.v_proj.bias', 'model.vision_tower.video_tower.encoder.layers.16.self_attn.v_proj.weight', 'model.vision_tower.video_tower.encoder.layers.16.temporal_attn.k_proj.bias', 'model.vision_tower.video_tower.encoder.layers.16.temporal_attn.k_proj.weight', 'model.vision_tower.video_tower.encoder.layers.16.temporal_attn.out_proj.bias', 'model.vision_tower.video_tower.encoder.layers.16.temporal_attn.out_proj.weight', 'model.vision_tower.video_tower.encoder.layers.16.temporal_attn.q_proj.bias', 'model.vision_tower.video_tower.encoder.layers.16.temporal_attn.q_proj.weight', 'model.vision_tower.video_tower.encoder.layers.16.temporal_attn.v_proj.bias', 'model.vision_tower.video_tower.encoder.layers.16.temporal_attn.v_proj.weight', 'model.vision_tower.video_tower.encoder.layers.16.temporal_embedding', 'model.vision_tower.video_tower.encoder.layers.16.temporal_layer_norm1.bias', 'model.vision_tower.video_tower.encoder.layers.16.temporal_layer_norm1.weight', 'model.vision_tower.video_tower.encoder.layers.17.layer_norm1.bias', 'model.vision_tower.video_tower.encoder.layers.17.layer_norm1.weight', 'model.vision_tower.video_tower.encoder.layers.17.layer_norm2.bias', 'model.vision_tower.video_tower.encoder.layers.17.layer_norm2.weight', 'model.vision_tower.video_tower.encoder.layers.17.mlp.fc1.bias', 'model.vision_tower.video_tower.encoder.layers.17.mlp.fc1.weight', 'model.vision_tower.video_tower.encoder.layers.17.mlp.fc2.bias', 'model.vision_tower.video_tower.encoder.layers.17.mlp.fc2.weight', 'model.vision_tower.video_tower.encoder.layers.17.self_attn.k_proj.bias', 'model.vision_tower.video_tower.encoder.layers.17.self_attn.k_proj.weight', 'model.vision_tower.video_tower.encoder.layers.17.self_attn.out_proj.bias', 'model.vision_tower.video_tower.encoder.layers.17.self_attn.out_proj.weight', 'model.vision_tower.video_tower.encoder.layers.17.self_attn.q_proj.bias', 'model.vision_tower.video_tower.encoder.layers.17.self_attn.q_proj.weight', 'model.vision_tower.video_tower.encoder.layers.17.self_attn.v_proj.bias', 'model.vision_tower.video_tower.encoder.layers.17.self_attn.v_proj.weight', 'model.vision_tower.video_tower.encoder.layers.17.temporal_attn.k_proj.bias', 'model.vision_tower.video_tower.encoder.layers.17.temporal_attn.k_proj.weight', 'model.vision_tower.video_tower.encoder.layers.17.temporal_attn.out_proj.bias', 'model.vision_tower.video_tower.encoder.layers.17.temporal_attn.out_proj.weight', 'model.vision_tower.video_tower.encoder.layers.17.temporal_attn.q_proj.bias', 'model.vision_tower.video_tower.encoder.layers.17.temporal_attn.q_proj.weight', 'model.vision_tower.video_tower.encoder.layers.17.temporal_attn.v_proj.bias', 'model.vision_tower.video_tower.encoder.layers.17.temporal_attn.v_proj.weight', 'model.vision_tower.video_tower.encoder.layers.17.temporal_embedding', 'model.vision_tower.video_tower.encoder.layers.17.temporal_layer_norm1.bias', 'model.vision_tower.video_tower.encoder.layers.17.temporal_layer_norm1.weight', 'model.vision_tower.video_tower.encoder.layers.18.layer_norm1.bias', 'model.vision_tower.video_tower.encoder.layers.18.layer_norm1.weight', 'model.vision_tower.video_tower.encoder.layers.18.layer_norm2.bias', 'model.vision_tower.video_tower.encoder.layers.18.layer_norm2.weight', 'model.vision_tower.video_tower.encoder.layers.18.mlp.fc1.bias', 'model.vision_tower.video_tower.encoder.layers.18.mlp.fc1.weight', 'model.vision_tower.video_tower.encoder.layers.18.mlp.fc2.bias', 'model.vision_tower.video_tower.encoder.layers.18.mlp.fc2.weight', 'model.vision_tower.video_tower.encoder.layers.18.self_attn.k_proj.bias', 'model.vision_tower.video_tower.encoder.layers.18.self_attn.k_proj.weight', 'model.vision_tower.video_tower.encoder.layers.18.self_attn.out_proj.bias', 'model.vision_tower.video_tower.encoder.layers.18.self_attn.out_proj.weight', 'model.vision_tower.video_tower.encoder.layers.18.self_attn.q_proj.bias', 'model.vision_tower.video_tower.encoder.layers.18.self_attn.q_proj.weight', 'model.vision_tower.video_tower.encoder.layers.18.self_attn.v_proj.bias', 'model.vision_tower.video_tower.encoder.layers.18.self_attn.v_proj.weight', 'model.vision_tower.video_tower.encoder.layers.18.temporal_attn.k_proj.bias', 'model.vision_tower.video_tower.encoder.layers.18.temporal_attn.k_proj.weight', 'model.vision_tower.video_tower.encoder.layers.18.temporal_attn.out_proj.bias', 'model.vision_tower.video_tower.encoder.layers.18.temporal_attn.out_proj.weight', 'model.vision_tower.video_tower.encoder.layers.18.temporal_attn.q_proj.bias', 'model.vision_tower.video_tower.encoder.layers.18.temporal_attn.q_proj.weight', 'model.vision_tower.video_tower.encoder.layers.18.temporal_attn.v_proj.bias', 'model.vision_tower.video_tower.encoder.layers.18.temporal_attn.v_proj.weight', 'model.vision_tower.video_tower.encoder.layers.18.temporal_embedding', 'model.vision_tower.video_tower.encoder.layers.18.temporal_layer_norm1.bias', 'model.vision_tower.video_tower.encoder.layers.18.temporal_layer_norm1.weight', 'model.vision_tower.video_tower.encoder.layers.19.layer_norm1.bias', 'model.vision_tower.video_tower.encoder.layers.19.layer_norm1.weight', 'model.vision_tower.video_tower.encoder.layers.19.layer_norm2.bias', 'model.vision_tower.video_tower.encoder.layers.19.layer_norm2.weight', 'model.vision_tower.video_tower.encoder.layers.19.mlp.fc1.bias', 'model.vision_tower.video_tower.encoder.layers.19.mlp.fc1.weight', 'model.vision_tower.video_tower.encoder.layers.19.mlp.fc2.bias', 'model.vision_tower.video_tower.encoder.layers.19.mlp.fc2.weight', 'model.vision_tower.video_tower.encoder.layers.19.self_attn.k_proj.bias', 'model.vision_tower.video_tower.encoder.layers.19.self_attn.k_proj.weight', 'model.vision_tower.video_tower.encoder.layers.19.self_attn.out_proj.bias', 'model.vision_tower.video_tower.encoder.layers.19.self_attn.out_proj.weight', 'model.vision_tower.video_tower.encoder.layers.19.self_attn.q_proj.bias', 'model.vision_tower.video_tower.encoder.layers.19.self_attn.q_proj.weight', 'model.vision_tower.video_tower.encoder.layers.19.self_attn.v_proj.bias', 'model.vision_tower.video_tower.encoder.layers.19.self_attn.v_proj.weight', 'model.vision_tower.video_tower.encoder.layers.19.temporal_attn.k_proj.bias', 'model.vision_tower.video_tower.encoder.layers.19.temporal_attn.k_proj.weight', 'model.vision_tower.video_tower.encoder.layers.19.temporal_attn.out_proj.bias', 'model.vision_tower.video_tower.encoder.layers.19.temporal_attn.out_proj.weight', 'model.vision_tower.video_tower.encoder.layers.19.temporal_attn.q_proj.bias', 'model.vision_tower.video_tower.encoder.layers.19.temporal_attn.q_proj.weight', 'model.vision_tower.video_tower.encoder.layers.19.temporal_attn.v_proj.bias', 'model.vision_tower.video_tower.encoder.layers.19.temporal_attn.v_proj.weight', 'model.vision_tower.video_tower.encoder.layers.19.temporal_embedding', 'model.vision_tower.video_tower.encoder.layers.19.temporal_layer_norm1.bias', 'model.vision_tower.video_tower.encoder.layers.19.temporal_layer_norm1.weight', 'model.vision_tower.video_tower.encoder.layers.2.layer_norm1.bias', 'model.vision_tower.video_tower.encoder.layers.2.layer_norm1.weight', 'model.vision_tower.video_tower.encoder.layers.2.layer_norm2.bias', 'model.vision_tower.video_tower.encoder.layers.2.layer_norm2.weight', 'model.vision_tower.video_tower.encoder.layers.2.mlp.fc1.bias', 'model.vision_tower.video_tower.encoder.layers.2.mlp.fc1.weight', 'model.vision_tower.video_tower.encoder.layers.2.mlp.fc2.bias', 'model.vision_tower.video_tower.encoder.layers.2.mlp.fc2.weight', 'model.vision_tower.video_tower.encoder.layers.2.self_attn.k_proj.bias', 'model.vision_tower.video_tower.encoder.layers.2.self_attn.k_proj.weight', 'model.vision_tower.video_tower.encoder.layers.2.self_attn.out_proj.bias', 'model.vision_tower.video_tower.encoder.layers.2.self_attn.out_proj.weight', 'model.vision_tower.video_tower.encoder.layers.2.self_attn.q_proj.bias', 'model.vision_tower.video_tower.encoder.layers.2.self_attn.q_proj.weight', 'model.vision_tower.video_tower.encoder.layers.2.self_attn.v_proj.bias', 'model.vision_tower.video_tower.encoder.layers.2.self_attn.v_proj.weight', 'model.vision_tower.video_tower.encoder.layers.2.temporal_attn.k_proj.bias', 'model.vision_tower.video_tower.encoder.layers.2.temporal_attn.k_proj.weight', 'model.vision_tower.video_tower.encoder.layers.2.temporal_attn.out_proj.bias', 'model.vision_tower.video_tower.encoder.layers.2.temporal_attn.out_proj.weight', 'model.vision_tower.video_tower.encoder.layers.2.temporal_attn.q_proj.bias', 'model.vision_tower.video_tower.encoder.layers.2.temporal_attn.q_proj.weight', 'model.vision_tower.video_tower.encoder.layers.2.temporal_attn.v_proj.bias', 'model.vision_tower.video_tower.encoder.layers.2.temporal_attn.v_proj.weight', 'model.vision_tower.video_tower.encoder.layers.2.temporal_embedding', 'model.vision_tower.video_tower.encoder.layers.2.temporal_layer_norm1.bias', 'model.vision_tower.video_tower.encoder.layers.2.temporal_layer_norm1.weight', 'model.vision_tower.video_tower.encoder.layers.20.layer_norm1.bias', 'model.vision_tower.video_tower.encoder.layers.20.layer_norm1.weight', 'model.vision_tower.video_tower.encoder.layers.20.layer_norm2.bias', 'model.vision_tower.video_tower.encoder.layers.20.layer_norm2.weight', 'model.vision_tower.video_tower.encoder.layers.20.mlp.fc1.bias', 'model.vision_tower.video_tower.encoder.layers.20.mlp.fc1.weight', 'model.vision_tower.video_tower.encoder.layers.20.mlp.fc2.bias', 'model.vision_tower.video_tower.encoder.layers.20.mlp.fc2.weight', 'model.vision_tower.video_tower.encoder.layers.20.self_attn.k_proj.bias', 'model.vision_tower.video_tower.encoder.layers.20.self_attn.k_proj.weight', 'model.vision_tower.video_tower.encoder.layers.20.self_attn.out_proj.bias', 'model.vision_tower.video_tower.encoder.layers.20.self_attn.out_proj.weight', 'model.vision_tower.video_tower.encoder.layers.20.self_attn.q_proj.bias', 'model.vision_tower.video_tower.encoder.layers.20.self_attn.q_proj.weight', 'model.vision_tower.video_tower.encoder.layers.20.self_attn.v_proj.bias', 'model.vision_tower.video_tower.encoder.layers.20.self_attn.v_proj.weight', 'model.vision_tower.video_tower.encoder.layers.20.temporal_attn.k_proj.bias', 'model.vision_tower.video_tower.encoder.layers.20.temporal_attn.k_proj.weight', 'model.vision_tower.video_tower.encoder.layers.20.temporal_attn.out_proj.bias', 'model.vision_tower.video_tower.encoder.layers.20.temporal_attn.out_proj.weight', 'model.vision_tower.video_tower.encoder.layers.20.temporal_attn.q_proj.bias', 'model.vision_tower.video_tower.encoder.layers.20.temporal_attn.q_proj.weight', 'model.vision_tower.video_tower.encoder.layers.20.temporal_attn.v_proj.bias', 'model.vision_tower.video_tower.encoder.layers.20.temporal_attn.v_proj.weight', 'model.vision_tower.video_tower.encoder.layers.20.temporal_embedding', 'model.vision_tower.video_tower.encoder.layers.20.temporal_layer_norm1.bias', 'model.vision_tower.video_tower.encoder.layers.20.temporal_layer_norm1.weight', 'model.vision_tower.video_tower.encoder.layers.21.layer_norm1.bias', 'model.vision_tower.video_tower.encoder.layers.21.layer_norm1.weight', 'model.vision_tower.video_tower.encoder.layers.21.layer_norm2.bias', 'model.vision_tower.video_tower.encoder.layers.21.layer_norm2.weight', 'model.vision_tower.video_tower.encoder.layers.21.mlp.fc1.bias', 'model.vision_tower.video_tower.encoder.layers.21.mlp.fc1.weight', 'model.vision_tower.video_tower.encoder.layers.21.mlp.fc2.bias', 'model.vision_tower.video_tower.encoder.layers.21.mlp.fc2.weight', 'model.vision_tower.video_tower.encoder.layers.21.self_attn.k_proj.bias', 'model.vision_tower.video_tower.encoder.layers.21.self_attn.k_proj.weight', 'model.vision_tower.video_tower.encoder.layers.21.self_attn.out_proj.bias', 'model.vision_tower.video_tower.encoder.layers.21.self_attn.out_proj.weight', 'model.vision_tower.video_tower.encoder.layers.21.self_attn.q_proj.bias', 'model.vision_tower.video_tower.encoder.layers.21.self_attn.q_proj.weight', 'model.vision_tower.video_tower.encoder.layers.21.self_attn.v_proj.bias', 'model.vision_tower.video_tower.encoder.layers.21.self_attn.v_proj.weight', 'model.vision_tower.video_tower.encoder.layers.21.temporal_attn.k_proj.bias', 'model.vision_tower.video_tower.encoder.layers.21.temporal_attn.k_proj.weight', 'model.vision_tower.video_tower.encoder.layers.21.temporal_attn.out_proj.bias', 'model.vision_tower.video_tower.encoder.layers.21.temporal_attn.out_proj.weight', 'model.vision_tower.video_tower.encoder.layers.21.temporal_attn.q_proj.bias', 'model.vision_tower.video_tower.encoder.layers.21.temporal_attn.q_proj.weight', 'model.vision_tower.video_tower.encoder.layers.21.temporal_attn.v_proj.bias', 'model.vision_tower.video_tower.encoder.layers.21.temporal_attn.v_proj.weight', 'model.vision_tower.video_tower.encoder.layers.21.temporal_embedding', 'model.vision_tower.video_tower.encoder.layers.21.temporal_layer_norm1.bias', 'model.vision_tower.video_tower.encoder.layers.21.temporal_layer_norm1.weight', 'model.vision_tower.video_tower.encoder.layers.22.layer_norm1.bias', 'model.vision_tower.video_tower.encoder.layers.22.layer_norm1.weight', 'model.vision_tower.video_tower.encoder.layers.22.layer_norm2.bias', 'model.vision_tower.video_tower.encoder.layers.22.layer_norm2.weight', 'model.vision_tower.video_tower.encoder.layers.22.mlp.fc1.bias', 'model.vision_tower.video_tower.encoder.layers.22.mlp.fc1.weight', 'model.vision_tower.video_tower.encoder.layers.22.mlp.fc2.bias', 'model.vision_tower.video_tower.encoder.layers.22.mlp.fc2.weight', 'model.vision_tower.video_tower.encoder.layers.22.self_attn.k_proj.bias', 'model.vision_tower.video_tower.encoder.layers.22.self_attn.k_proj.weight', 'model.vision_tower.video_tower.encoder.layers.22.self_attn.out_proj.bias', 'model.vision_tower.video_tower.encoder.layers.22.self_attn.out_proj.weight', 'model.vision_tower.video_tower.encoder.layers.22.self_attn.q_proj.bias', 'model.vision_tower.video_tower.encoder.layers.22.self_attn.q_proj.weight', 'model.vision_tower.video_tower.encoder.layers.22.self_attn.v_proj.bias', 'model.vision_tower.video_tower.encoder.layers.22.self_attn.v_proj.weight', 'model.vision_tower.video_tower.encoder.layers.22.temporal_attn.k_proj.bias', 'model.vision_tower.video_tower.encoder.layers.22.temporal_attn.k_proj.weight', 'model.vision_tower.video_tower.encoder.layers.22.temporal_attn.out_proj.bias', 'model.vision_tower.video_tower.encoder.layers.22.temporal_attn.out_proj.weight', 'model.vision_tower.video_tower.encoder.layers.22.temporal_attn.q_proj.bias', 'model.vision_tower.video_tower.encoder.layers.22.temporal_attn.q_proj.weight', 'model.vision_tower.video_tower.encoder.layers.22.temporal_attn.v_proj.bias', 'model.vision_tower.video_tower.encoder.layers.22.temporal_attn.v_proj.weight', 'model.vision_tower.video_tower.encoder.layers.22.temporal_embedding', 'model.vision_tower.video_tower.encoder.layers.22.temporal_layer_norm1.bias', 'model.vision_tower.video_tower.encoder.layers.22.temporal_layer_norm1.weight', 'model.vision_tower.video_tower.encoder.layers.23.layer_norm1.bias', 'model.vision_tower.video_tower.encoder.layers.23.layer_norm1.weight', 'model.vision_tower.video_tower.encoder.layers.23.layer_norm2.bias', 'model.vision_tower.video_tower.encoder.layers.23.layer_norm2.weight', 'model.vision_tower.video_tower.encoder.layers.23.mlp.fc1.bias', 'model.vision_tower.video_tower.encoder.layers.23.mlp.fc1.weight', 'model.vision_tower.video_tower.encoder.layers.23.mlp.fc2.bias', 'model.vision_tower.video_tower.encoder.layers.23.mlp.fc2.weight', 'model.vision_tower.video_tower.encoder.layers.23.self_attn.k_proj.bias', 'model.vision_tower.video_tower.encoder.layers.23.self_attn.k_proj.weight', 'model.vision_tower.video_tower.encoder.layers.23.self_attn.out_proj.bias', 'model.vision_tower.video_tower.encoder.layers.23.self_attn.out_proj.weight', 'model.vision_tower.video_tower.encoder.layers.23.self_attn.q_proj.bias', 'model.vision_tower.video_tower.encoder.layers.23.self_attn.q_proj.weight', 'model.vision_tower.video_tower.encoder.layers.23.self_attn.v_proj.bias', 'model.vision_tower.video_tower.encoder.layers.23.self_attn.v_proj.weight', 'model.vision_tower.video_tower.encoder.layers.23.temporal_attn.k_proj.bias', 'model.vision_tower.video_tower.encoder.layers.23.temporal_attn.k_proj.weight', 'model.vision_tower.video_tower.encoder.layers.23.temporal_attn.out_proj.bias', 'model.vision_tower.video_tower.encoder.layers.23.temporal_attn.out_proj.weight', 'model.vision_tower.video_tower.encoder.layers.23.temporal_attn.q_proj.bias', 'model.vision_tower.video_tower.encoder.layers.23.temporal_attn.q_proj.weight', 'model.vision_tower.video_tower.encoder.layers.23.temporal_attn.v_proj.bias', 'model.vision_tower.video_tower.encoder.layers.23.temporal_attn.v_proj.weight', 'model.vision_tower.video_tower.encoder.layers.23.temporal_embedding', 'model.vision_tower.video_tower.encoder.layers.23.temporal_layer_norm1.bias', 'model.vision_tower.video_tower.encoder.layers.23.temporal_layer_norm1.weight', 'model.vision_tower.video_tower.encoder.layers.3.layer_norm1.bias', 'model.vision_tower.video_tower.encoder.layers.3.layer_norm1.weight', 'model.vision_tower.video_tower.encoder.layers.3.layer_norm2.bias', 'model.vision_tower.video_tower.encoder.layers.3.layer_norm2.weight', 'model.vision_tower.video_tower.encoder.layers.3.mlp.fc1.bias', 'model.vision_tower.video_tower.encoder.layers.3.mlp.fc1.weight', 'model.vision_tower.video_tower.encoder.layers.3.mlp.fc2.bias', 'model.vision_tower.video_tower.encoder.layers.3.mlp.fc2.weight', 'model.vision_tower.video_tower.encoder.layers.3.self_attn.k_proj.bias', 'model.vision_tower.video_tower.encoder.layers.3.self_attn.k_proj.weight', 'model.vision_tower.video_tower.encoder.layers.3.self_attn.out_proj.bias', 'model.vision_tower.video_tower.encoder.layers.3.self_attn.out_proj.weight', 'model.vision_tower.video_tower.encoder.layers.3.self_attn.q_proj.bias', 'model.vision_tower.video_tower.encoder.layers.3.self_attn.q_proj.weight', 'model.vision_tower.video_tower.encoder.layers.3.self_attn.v_proj.bias', 'model.vision_tower.video_tower.encoder.layers.3.self_attn.v_proj.weight', 'model.vision_tower.video_tower.encoder.layers.3.temporal_attn.k_proj.bias', 'model.vision_tower.video_tower.encoder.layers.3.temporal_attn.k_proj.weight', 'model.vision_tower.video_tower.encoder.layers.3.temporal_attn.out_proj.bias', 'model.vision_tower.video_tower.encoder.layers.3.temporal_attn.out_proj.weight', 'model.vision_tower.video_tower.encoder.layers.3.temporal_attn.q_proj.bias', 'model.vision_tower.video_tower.encoder.layers.3.temporal_attn.q_proj.weight', 'model.vision_tower.video_tower.encoder.layers.3.temporal_attn.v_proj.bias', 'model.vision_tower.video_tower.encoder.layers.3.temporal_attn.v_proj.weight', 'model.vision_tower.video_tower.encoder.layers.3.temporal_embedding', 'model.vision_tower.video_tower.encoder.layers.3.temporal_layer_norm1.bias', 'model.vision_tower.video_tower.encoder.layers.3.temporal_layer_norm1.weight', 'model.vision_tower.video_tower.encoder.layers.4.layer_norm1.bias', 'model.vision_tower.video_tower.encoder.layers.4.layer_norm1.weight', 'model.vision_tower.video_tower.encoder.layers.4.layer_norm2.bias', 'model.vision_tower.video_tower.encoder.layers.4.layer_norm2.weight', 'model.vision_tower.video_tower.encoder.layers.4.mlp.fc1.bias', 'model.vision_tower.video_tower.encoder.layers.4.mlp.fc1.weight', 'model.vision_tower.video_tower.encoder.layers.4.mlp.fc2.bias', 'model.vision_tower.video_tower.encoder.layers.4.mlp.fc2.weight', 'model.vision_tower.video_tower.encoder.layers.4.self_attn.k_proj.bias', 'model.vision_tower.video_tower.encoder.layers.4.self_attn.k_proj.weight', 'model.vision_tower.video_tower.encoder.layers.4.self_attn.out_proj.bias', 'model.vision_tower.video_tower.encoder.layers.4.self_attn.out_proj.weight', 'model.vision_tower.video_tower.encoder.layers.4.self_attn.q_proj.bias', 'model.vision_tower.video_tower.encoder.layers.4.self_attn.q_proj.weight', 'model.vision_tower.video_tower.encoder.layers.4.self_attn.v_proj.bias', 'model.vision_tower.video_tower.encoder.layers.4.self_attn.v_proj.weight', 'model.vision_tower.video_tower.encoder.layers.4.temporal_attn.k_proj.bias', 'model.vision_tower.video_tower.encoder.layers.4.temporal_attn.k_proj.weight', 'model.vision_tower.video_tower.encoder.layers.4.temporal_attn.out_proj.bias', 'model.vision_tower.video_tower.encoder.layers.4.temporal_attn.out_proj.weight', 'model.vision_tower.video_tower.encoder.layers.4.temporal_attn.q_proj.bias', 'model.vision_tower.video_tower.encoder.layers.4.temporal_attn.q_proj.weight', 'model.vision_tower.video_tower.encoder.layers.4.temporal_attn.v_proj.bias', 'model.vision_tower.video_tower.encoder.layers.4.temporal_attn.v_proj.weight', 'model.vision_tower.video_tower.encoder.layers.4.temporal_embedding', 'model.vision_tower.video_tower.encoder.layers.4.temporal_layer_norm1.bias', 'model.vision_tower.video_tower.encoder.layers.4.temporal_layer_norm1.weight', 'model.vision_tower.video_tower.encoder.layers.5.layer_norm1.bias', 'model.vision_tower.video_tower.encoder.layers.5.layer_norm1.weight', 'model.vision_tower.video_tower.encoder.layers.5.layer_norm2.bias', 'model.vision_tower.video_tower.encoder.layers.5.layer_norm2.weight', 'model.vision_tower.video_tower.encoder.layers.5.mlp.fc1.bias', 'model.vision_tower.video_tower.encoder.layers.5.mlp.fc1.weight', 'model.vision_tower.video_tower.encoder.layers.5.mlp.fc2.bias', 'model.vision_tower.video_tower.encoder.layers.5.mlp.fc2.weight', 'model.vision_tower.video_tower.encoder.layers.5.self_attn.k_proj.bias', 'model.vision_tower.video_tower.encoder.layers.5.self_attn.k_proj.weight', 'model.vision_tower.video_tower.encoder.layers.5.self_attn.out_proj.bias', 'model.vision_tower.video_tower.encoder.layers.5.self_attn.out_proj.weight', 'model.vision_tower.video_tower.encoder.layers.5.self_attn.q_proj.bias', 'model.vision_tower.video_tower.encoder.layers.5.self_attn.q_proj.weight', 'model.vision_tower.video_tower.encoder.layers.5.self_attn.v_proj.bias', 'model.vision_tower.video_tower.encoder.layers.5.self_attn.v_proj.weight', 'model.vision_tower.video_tower.encoder.layers.5.temporal_attn.k_proj.bias', 'model.vision_tower.video_tower.encoder.layers.5.temporal_attn.k_proj.weight', 'model.vision_tower.video_tower.encoder.layers.5.temporal_attn.out_proj.bias', 'model.vision_tower.video_tower.encoder.layers.5.temporal_attn.out_proj.weight', 'model.vision_tower.video_tower.encoder.layers.5.temporal_attn.q_proj.bias', 'model.vision_tower.video_tower.encoder.layers.5.temporal_attn.q_proj.weight', 'model.vision_tower.video_tower.encoder.layers.5.temporal_attn.v_proj.bias', 'model.vision_tower.video_tower.encoder.layers.5.temporal_attn.v_proj.weight', 'model.vision_tower.video_tower.encoder.layers.5.temporal_embedding', 'model.vision_tower.video_tower.encoder.layers.5.temporal_layer_norm1.bias', 'model.vision_tower.video_tower.encoder.layers.5.temporal_layer_norm1.weight', 'model.vision_tower.video_tower.encoder.layers.6.layer_norm1.bias', 'model.vision_tower.video_tower.encoder.layers.6.layer_norm1.weight', 'model.vision_tower.video_tower.encoder.layers.6.layer_norm2.bias', 'model.vision_tower.video_tower.encoder.layers.6.layer_norm2.weight', 'model.vision_tower.video_tower.encoder.layers.6.mlp.fc1.bias', 'model.vision_tower.video_tower.encoder.layers.6.mlp.fc1.weight', 'model.vision_tower.video_tower.encoder.layers.6.mlp.fc2.bias', 'model.vision_tower.video_tower.encoder.layers.6.mlp.fc2.weight', 'model.vision_tower.video_tower.encoder.layers.6.self_attn.k_proj.bias', 'model.vision_tower.video_tower.encoder.layers.6.self_attn.k_proj.weight', 'model.vision_tower.video_tower.encoder.layers.6.self_attn.out_proj.bias', 'model.vision_tower.video_tower.encoder.layers.6.self_attn.out_proj.weight', 'model.vision_tower.video_tower.encoder.layers.6.self_attn.q_proj.bias', 'model.vision_tower.video_tower.encoder.layers.6.self_attn.q_proj.weight', 'model.vision_tower.video_tower.encoder.layers.6.self_attn.v_proj.bias', 'model.vision_tower.video_tower.encoder.layers.6.self_attn.v_proj.weight', 'model.vision_tower.video_tower.encoder.layers.6.temporal_attn.k_proj.bias', 'model.vision_tower.video_tower.encoder.layers.6.temporal_attn.k_proj.weight', 'model.vision_tower.video_tower.encoder.layers.6.temporal_attn.out_proj.bias', 'model.vision_tower.video_tower.encoder.layers.6.temporal_attn.out_proj.weight', 'model.vision_tower.video_tower.encoder.layers.6.temporal_attn.q_proj.bias', 'model.vision_tower.video_tower.encoder.layers.6.temporal_attn.q_proj.weight', 'model.vision_tower.video_tower.encoder.layers.6.temporal_attn.v_proj.bias', 'model.vision_tower.video_tower.encoder.layers.6.temporal_attn.v_proj.weight', 'model.vision_tower.video_tower.encoder.layers.6.temporal_embedding', 'model.vision_tower.video_tower.encoder.layers.6.temporal_layer_norm1.bias', 'model.vision_tower.video_tower.encoder.layers.6.temporal_layer_norm1.weight', 'model.vision_tower.video_tower.encoder.layers.7.layer_norm1.bias', 'model.vision_tower.video_tower.encoder.layers.7.layer_norm1.weight', 'model.vision_tower.video_tower.encoder.layers.7.layer_norm2.bias', 'model.vision_tower.video_tower.encoder.layers.7.layer_norm2.weight', 'model.vision_tower.video_tower.encoder.layers.7.mlp.fc1.bias', 'model.vision_tower.video_tower.encoder.layers.7.mlp.fc1.weight', 'model.vision_tower.video_tower.encoder.layers.7.mlp.fc2.bias', 'model.vision_tower.video_tower.encoder.layers.7.mlp.fc2.weight', 'model.vision_tower.video_tower.encoder.layers.7.self_attn.k_proj.bias', 'model.vision_tower.video_tower.encoder.layers.7.self_attn.k_proj.weight', 'model.vision_tower.video_tower.encoder.layers.7.self_attn.out_proj.bias', 'model.vision_tower.video_tower.encoder.layers.7.self_attn.out_proj.weight', 'model.vision_tower.video_tower.encoder.layers.7.self_attn.q_proj.bias', 'model.vision_tower.video_tower.encoder.layers.7.self_attn.q_proj.weight', 'model.vision_tower.video_tower.encoder.layers.7.self_attn.v_proj.bias', 'model.vision_tower.video_tower.encoder.layers.7.self_attn.v_proj.weight', 'model.vision_tower.video_tower.encoder.layers.7.temporal_attn.k_proj.bias', 'model.vision_tower.video_tower.encoder.layers.7.temporal_attn.k_proj.weight', 'model.vision_tower.video_tower.encoder.layers.7.temporal_attn.out_proj.bias', 'model.vision_tower.video_tower.encoder.layers.7.temporal_attn.out_proj.weight', 'model.vision_tower.video_tower.encoder.layers.7.temporal_attn.q_proj.bias', 'model.vision_tower.video_tower.encoder.layers.7.temporal_attn.q_proj.weight', 'model.vision_tower.video_tower.encoder.layers.7.temporal_attn.v_proj.bias', 'model.vision_tower.video_tower.encoder.layers.7.temporal_attn.v_proj.weight', 'model.vision_tower.video_tower.encoder.layers.7.temporal_embedding', 'model.vision_tower.video_tower.encoder.layers.7.temporal_layer_norm1.bias', 'model.vision_tower.video_tower.encoder.layers.7.temporal_layer_norm1.weight', 'model.vision_tower.video_tower.encoder.layers.8.layer_norm1.bias', 'model.vision_tower.video_tower.encoder.layers.8.layer_norm1.weight', 'model.vision_tower.video_tower.encoder.layers.8.layer_norm2.bias', 'model.vision_tower.video_tower.encoder.layers.8.layer_norm2.weight', 'model.vision_tower.video_tower.encoder.layers.8.mlp.fc1.bias', 'model.vision_tower.video_tower.encoder.layers.8.mlp.fc1.weight', 'model.vision_tower.video_tower.encoder.layers.8.mlp.fc2.bias', 'model.vision_tower.video_tower.encoder.layers.8.mlp.fc2.weight', 'model.vision_tower.video_tower.encoder.layers.8.self_attn.k_proj.bias', 'model.vision_tower.video_tower.encoder.layers.8.self_attn.k_proj.weight', 'model.vision_tower.video_tower.encoder.layers.8.self_attn.out_proj.bias', 'model.vision_tower.video_tower.encoder.layers.8.self_attn.out_proj.weight', 'model.vision_tower.video_tower.encoder.layers.8.self_attn.q_proj.bias', 'model.vision_tower.video_tower.encoder.layers.8.self_attn.q_proj.weight', 'model.vision_tower.video_tower.encoder.layers.8.self_attn.v_proj.bias', 'model.vision_tower.video_tower.encoder.layers.8.self_attn.v_proj.weight', 'model.vision_tower.video_tower.encoder.layers.8.temporal_attn.k_proj.bias', 'model.vision_tower.video_tower.encoder.layers.8.temporal_attn.k_proj.weight', 'model.vision_tower.video_tower.encoder.layers.8.temporal_attn.out_proj.bias', 'model.vision_tower.video_tower.encoder.layers.8.temporal_attn.out_proj.weight', 'model.vision_tower.video_tower.encoder.layers.8.temporal_attn.q_proj.bias', 'model.vision_tower.video_tower.encoder.layers.8.temporal_attn.q_proj.weight', 'model.vision_tower.video_tower.encoder.layers.8.temporal_attn.v_proj.bias', 'model.vision_tower.video_tower.encoder.layers.8.temporal_attn.v_proj.weight', 'model.vision_tower.video_tower.encoder.layers.8.temporal_embedding', 'model.vision_tower.video_tower.encoder.layers.8.temporal_layer_norm1.bias', 'model.vision_tower.video_tower.encoder.layers.8.temporal_layer_norm1.weight', 'model.vision_tower.video_tower.encoder.layers.9.layer_norm1.bias', 'model.vision_tower.video_tower.encoder.layers.9.layer_norm1.weight', 'model.vision_tower.video_tower.encoder.layers.9.layer_norm2.bias', 'model.vision_tower.video_tower.encoder.layers.9.layer_norm2.weight', 'model.vision_tower.video_tower.encoder.layers.9.mlp.fc1.bias', 'model.vision_tower.video_tower.encoder.layers.9.mlp.fc1.weight', 'model.vision_tower.video_tower.encoder.layers.9.mlp.fc2.bias', 'model.vision_tower.video_tower.encoder.layers.9.mlp.fc2.weight', 'model.vision_tower.video_tower.encoder.layers.9.self_attn.k_proj.bias', 'model.vision_tower.video_tower.encoder.layers.9.self_attn.k_proj.weight', 'model.vision_tower.video_tower.encoder.layers.9.self_attn.out_proj.bias', 'model.vision_tower.video_tower.encoder.layers.9.self_attn.out_proj.weight', 'model.vision_tower.video_tower.encoder.layers.9.self_attn.q_proj.bias', 'model.vision_tower.video_tower.encoder.layers.9.self_attn.q_proj.weight', 'model.vision_tower.video_tower.encoder.layers.9.self_attn.v_proj.bias', 'model.vision_tower.video_tower.encoder.layers.9.self_attn.v_proj.weight', 'model.vision_tower.video_tower.encoder.layers.9.temporal_attn.k_proj.bias', 'model.vision_tower.video_tower.encoder.layers.9.temporal_attn.k_proj.weight', 'model.vision_tower.video_tower.encoder.layers.9.temporal_attn.out_proj.bias', 'model.vision_tower.video_tower.encoder.layers.9.temporal_attn.out_proj.weight', 'model.vision_tower.video_tower.encoder.layers.9.temporal_attn.q_proj.bias', 'model.vision_tower.video_tower.encoder.layers.9.temporal_attn.q_proj.weight', 'model.vision_tower.video_tower.encoder.layers.9.temporal_attn.v_proj.bias', 'model.vision_tower.video_tower.encoder.layers.9.temporal_attn.v_proj.weight', 'model.vision_tower.video_tower.encoder.layers.9.temporal_embedding', 'model.vision_tower.video_tower.encoder.layers.9.temporal_layer_norm1.bias', 'model.vision_tower.video_tower.encoder.layers.9.temporal_layer_norm1.weight', 'model.vision_tower.video_tower.post_layernorm.bias', 'model.vision_tower.video_tower.post_layernorm.weight', 'model.vision_tower.video_tower.pre_layrnorm.bias', 'model.vision_tower.video_tower.pre_layrnorm.weight']\n",
      "- This IS expected if you are initializing LlavaGemmaForCausalLM from the checkpoint of a model trained on another task or with another architecture (e.g. initializing a BertForSequenceClassification model from a BertForPreTraining model).\n",
      "- This IS NOT expected if you are initializing LlavaGemmaForCausalLM from the checkpoint of a model that you expect to be exactly identical (initializing a BertForSequenceClassification model from a BertForSequenceClassification model).\n"
     ]
    }
   ],
   "source": [
    "disable_torch_init()\n",
    "model_path = os.path.expanduser(model_path)\n",
    "model_name = get_model_name_from_path(model_path)\n",
    "# model_name = \"llava_gemma\"\n",
    "tokenizer, model, image_processor, context_len = load_pretrained_model(model_path, None, model_name)"
   ]
  },
  {
   "cell_type": "code",
   "execution_count": 7,
   "metadata": {},
   "outputs": [],
   "source": [
    "# model = AutoModelForCausalLM.from_pretrained(\n",
    "#     model_path,\n",
    "#     torch_dtype=torch.bfloat16,\n",
    "#     device_map=\"cuda\",\n",
    "# )\n",
    "# tokenizer = AutoTokenizer.from_pretrained(model_path)"
   ]
  },
  {
   "cell_type": "code",
   "execution_count": 8,
   "metadata": {},
   "outputs": [
    {
     "data": {
      "text/plain": [
       "LanguageBindVideoTower(\n",
       "  (video_tower): CLIPVisionTransformer(\n",
       "    (embeddings): CLIPVisionEmbeddings(\n",
       "      (patch_embedding): Conv2d(3, 1024, kernel_size=(14, 14), stride=(14, 14), bias=False)\n",
       "      (position_embedding): Embedding(257, 1024)\n",
       "    )\n",
       "    (patch_dropout): PatchDropout()\n",
       "    (pre_layrnorm): LayerNorm((1024,), eps=1e-05, elementwise_affine=True)\n",
       "    (encoder): CLIPEncoder(\n",
       "      (layers): ModuleList(\n",
       "        (0-23): 24 x CLIPEncoderLayer(\n",
       "          (self_attn): CLIPAttention(\n",
       "            (k_proj): Linear(in_features=1024, out_features=1024, bias=True)\n",
       "            (v_proj): Linear(in_features=1024, out_features=1024, bias=True)\n",
       "            (q_proj): Linear(in_features=1024, out_features=1024, bias=True)\n",
       "            (out_proj): Linear(in_features=1024, out_features=1024, bias=True)\n",
       "          )\n",
       "          (layer_norm1): LayerNorm((1024,), eps=1e-05, elementwise_affine=True)\n",
       "          (mlp): CLIPMLP(\n",
       "            (activation_fn): GELUActivation()\n",
       "            (fc1): Linear(in_features=1024, out_features=4096, bias=True)\n",
       "            (fc2): Linear(in_features=4096, out_features=1024, bias=True)\n",
       "          )\n",
       "          (layer_norm2): LayerNorm((1024,), eps=1e-05, elementwise_affine=True)\n",
       "          (temporal_attn): CLIPAttention(\n",
       "            (k_proj): Linear(in_features=1024, out_features=1024, bias=True)\n",
       "            (v_proj): Linear(in_features=1024, out_features=1024, bias=True)\n",
       "            (q_proj): Linear(in_features=1024, out_features=1024, bias=True)\n",
       "            (out_proj): Linear(in_features=1024, out_features=1024, bias=True)\n",
       "          )\n",
       "          (temporal_layer_norm1): LayerNorm((1024,), eps=1e-05, elementwise_affine=True)\n",
       "        )\n",
       "      )\n",
       "    )\n",
       "    (post_layernorm): LayerNorm((1024,), eps=1e-05, elementwise_affine=True)\n",
       "  )\n",
       ")"
      ]
     },
     "execution_count": 8,
     "metadata": {},
     "output_type": "execute_result"
    }
   ],
   "source": [
    "model.get_vision_tower().to(\"cuda\")"
   ]
  },
  {
   "cell_type": "code",
   "execution_count": 9,
   "metadata": {},
   "outputs": [],
   "source": [
    "conv_mode = \"gemma\"\n",
    "num_chunks = 1\n",
    "chunk_idx = 0\n",
    "temperature = 0.5\n",
    "top_p = None\n",
    "num_beams = 1"
   ]
  },
  {
   "cell_type": "code",
   "execution_count": 10,
   "metadata": {},
   "outputs": [
    {
     "data": {
      "text/plain": [
       "Sequential(\n",
       "  (0): Linear(in_features=1024, out_features=2048, bias=True)\n",
       "  (1): GELU(approximate='none')\n",
       "  (2): Linear(in_features=2048, out_features=2048, bias=True)\n",
       ")"
      ]
     },
     "execution_count": 10,
     "metadata": {},
     "output_type": "execute_result"
    }
   ],
   "source": [
    "qs = \"What is unusual about this image?\"\n",
    "cur_prompt = qs\n",
    "\n",
    "# Insert special image tokens into the text prompt\n",
    "\n",
    "if model.config.mm_use_im_start_end:\n",
    "    image_tokens = \" \".join([DEFAULT_IM_START_TOKEN + DEFAULT_IMAGE_TOKEN + DEFAULT_IM_END_TOKEN] * model.get_vision_tower().config.num_frames) + \"\\n\"\n",
    "else:\n",
    "    image_tokens = \" \".join([DEFAULT_IMAGE_TOKEN] * model.get_vision_tower().config.num_frames) + \"\\n\"\n",
    "qs = image_tokens + qs\n",
    "\n",
    "# Construct conversation prompt\n",
    "\n",
    "conv = conv_templates[conv_mode].copy()\n",
    "conv.append_message(conv.roles[0], qs)\n",
    "conv.append_message(conv.roles[1], None)\n",
    "prompt = conv.get_prompt()\n",
    "\n",
    "input_ids = tokenizer_image_token(prompt, tokenizer, IMAGE_TOKEN_INDEX, return_tensors='pt').unsqueeze(0).cuda()\n",
    "\n",
    "# url = \"https://www.ilankelman.org/stopsigns/australia.jpg\"\n",
    "# image = Image.open(requests.get(url, stream=True).raw)\n",
    "# image_tensor = process_images([image], image_processor, model.config)[0]\n",
    "\n",
    "video = '1.mp4'\n",
    "video_tensor = image_processor(video, return_tensors='pt')['pixel_values'].to(\"cuda\")\n",
    "model.get_model().mm_projector.to(\"cuda\", dtype=torch.float16)"
   ]
  },
  {
   "cell_type": "code",
   "execution_count": 11,
   "metadata": {},
   "outputs": [],
   "source": [
    "# qs = \"What is unusual about this image?\"\n",
    "# cur_prompt = qs\n",
    "\n",
    "# conv = conv_templates[conv_mode].copy()\n",
    "# conv.append_message(conv.roles[0], qs)\n",
    "# conv.append_message(conv.roles[1], None)\n",
    "# prompt = conv.get_prompt()\n",
    "\n",
    "# input_ids = tokenizer_image_token(prompt, tokenizer, IMAGE_TOKEN_INDEX, return_tensors='pt').unsqueeze(0).cuda()"
   ]
  },
  {
   "cell_type": "code",
   "execution_count": 12,
   "metadata": {},
   "outputs": [],
   "source": [
    "# embeds = model.get_model().embed_tokens(input_ids)\n",
    "# print(input_ids.shape)\n",
    "# embeds.shape"
   ]
  },
  {
   "cell_type": "code",
   "execution_count": 13,
   "metadata": {},
   "outputs": [
    {
     "data": {
      "text/plain": [
       "\"The person is sitting in close proximity to the camera. There is no indication of discomfort or evasion, and the individual appears to be enjoying the process. The lie detector confirms the truthfulness of the answers, indicating a genuine reflection on the subject matter.\\nIn this context, the individual's demeanor is light-hearted and candid, with moments of self-deprecation and humor. The person's body language is open, and they speak with a sense of ease, showing no signs of nervousness or deception.\\nThe individual's responses to questions about their personal life and experiences are delivered with a mix of humor and sincerity. The lie detector does not signal any deception, and the person's emotional state is one of reflection and openness.\\nThe person's body language is relaxed, and they speak with a sense of ease, indicating a level of comfort with the conversation. The lie detector's confirmation of truthfulness suggests a genuine reflection on the subject matter.\\nThe individual's demeanor is relaxed, and they speak with a sense of ease, indicating a level of comfort with the conversation. The lie detector's confirmation of truthfulness suggests a genuine reflection on the subject matter.\\nThe person is sitting in close proximity to the camera, and the lie detector does not indicate any deception. The person is speaking with a sense of ease, and the mood is light-hearted.\\nThe individual's responses to questions about their personal life and experiences are delivered with a mix of humor and sincerity. The lie detector does not signal any deception, and the person's emotional state is one of reflection and openness.\\nThe person's body language is relaxed, and they speak with a sense of ease, indicating a level of comfort with the conversation. The lie detector's confirmation of truthfulness suggests a genuine reflection on the subject matter.\\nThe person's demeanor is relaxed, and they speak with a sense of ease, indicating a level of comfort with the conversation. The lie detector's confirmation of truthfulness suggests a genuine reflection on the subject matter.\\nThe person is sitting in close proximity to the camera, and the lie detector does not indicate any deception. The person is speaking with a sense of ease, and the mood is light-hearted.\\nThe individual's responses to questions about their personal life and experiences are delivered with a mix of humor and sincerity. The lie detector does not signal any deception, and the person's emotional state is one of reflection and openness.\\nThe person's body language is relaxed, and they speak with a sense of ease, indicating a level of comfort with the conversation. The lie detector's confirmation of truthfulness suggests a genuine reflection on the subject matter.\\nThe person is sitting in close proximity to the camera, and the lie detector does not indicate any deception. The person is speaking with a sense of ease, and the mood is light-hearted.\\nThe person's responses to questions about their personal life and experiences are delivered with a mix of humor and sincerity. The lie detector does not signal any deception, and the person's emotional state is one of reflection and openness.\\nThe person is sitting in close proximity to the camera, and the lie detector does not indicate any deception. The person is speaking with a sense of ease, and the mood is light-hearted.\\nThe person's responses to questions about their personal life and experiences are delivered with a mix of humor and sincerity. The lie detector does not signal any deception, and the person's emotional state is one of reflection and openness.\\nThe person is sitting in close proximity to the camera, and the lie detector does not indicate any deception. The person is speaking with a sense of ease, and the mood is light-hearted.\\nThe person's responses to questions about their personal life and experiences are delivered with a mix of humor and sincerity. The lie detector does not signal any deception, and the person's emotional state is one of reflection and openness.\\nThe person is sitting in close proximity to the camera, and the lie detector does not indicate any deception. The person is speaking with a sense of ease, and the mood is light-hearted. The person's body language is relaxed, and they speak with a sense of ease, indicating a level of comfort with the conversation.\\nThe person's responses to questions about their personal life and experiences are delivered with a mix of humor and sincerity. The lie detector does not signal any deception, and the person's emotional state is one of reflection and openness.\\nThe person is sitting in close proximity to the camera, and the lie detector does not indicate any deception. The person is speaking with a sense of ease, and the mood is light-hearted. The person's body language is relaxed, and they speak with a sense of ease, indicating a level of comfort with the conversation.\\nThe person's responses to questions about their\""
      ]
     },
     "execution_count": 13,
     "metadata": {},
     "output_type": "execute_result"
    }
   ],
   "source": [
    "with torch.inference_mode():\n",
    "    output_ids = model.generate(\n",
    "        input_ids,\n",
    "        images=video_tensor.half().cuda(),\n",
    "        # image_sizes=[image.size],\n",
    "        do_sample=True if temperature > 0 else False,\n",
    "        temperature=temperature,\n",
    "        top_p=top_p,\n",
    "        num_beams=num_beams,\n",
    "        # no_repeat_ngram_size=3,\n",
    "        max_new_tokens=1024,\n",
    "        use_cache=True)\n",
    "\n",
    "# print(output_ids)\n",
    "\n",
    "outputs = tokenizer.batch_decode(output_ids, skip_special_tokens=True)[0].strip()\n",
    "outputs"
   ]
  },
  {
   "cell_type": "code",
   "execution_count": null,
   "metadata": {},
   "outputs": [],
   "source": [
    "from transformers import AutoTokenizer\n",
    "\n",
    "tokenizer = AutoTokenizer.from_pretrained(\"google/gemma-2b-it\")"
   ]
  },
  {
   "cell_type": "code",
   "execution_count": null,
   "metadata": {},
   "outputs": [],
   "source": [
    "type(tokenizer)\n",
    "tokenizer.apply_chat_template"
   ]
  },
  {
   "cell_type": "code",
   "execution_count": null,
   "metadata": {},
   "outputs": [],
   "source": [
    "from transformers import GemmaTokenizer"
   ]
  },
  {
   "cell_type": "code",
   "execution_count": null,
   "metadata": {},
   "outputs": [],
   "source": [
    "print(tokenizer.chat_template)"
   ]
  },
  {
   "cell_type": "code",
   "execution_count": null,
   "metadata": {},
   "outputs": [],
   "source": []
  }
 ],
 "metadata": {
  "kernelspec": {
   "display_name": "vlm_sandbox",
   "language": "python",
   "name": "python3"
  },
  "language_info": {
   "codemirror_mode": {
    "name": "ipython",
    "version": 3
   },
   "file_extension": ".py",
   "mimetype": "text/x-python",
   "name": "python",
   "nbconvert_exporter": "python",
   "pygments_lexer": "ipython3",
   "version": "3.11.0"
  }
 },
 "nbformat": 4,
 "nbformat_minor": 2
}
